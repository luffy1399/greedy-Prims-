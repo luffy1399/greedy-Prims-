{
 "cells": [
  {
   "cell_type": "code",
   "execution_count": 5,
   "id": "be8e0907",
   "metadata": {},
   "outputs": [
    {
     "name": "stdout",
     "output_type": "stream",
     "text": [
      "0-1 : 1\n",
      "1-2 : 2\n",
      "2-3 : 3\n",
      "3-4 : 4\n"
     ]
    }
   ],
   "source": [
    "INF=999999\n",
    "V=5\n",
    "\n",
    "G=[[0,1,5,6,0],\n",
    "   [1,0,2,0,8],\n",
    "   [5,2,0,3,7],\n",
    "   [6,0,3,0,4],\n",
    "   [0,8,7,4,0]]\n",
    "\n",
    "selected_node = [0] * V\n",
    "selected_node[0] = True\n",
    "e=0\n",
    "\n",
    "while e<(V-1):\n",
    "    min=INF\n",
    "    a=0\n",
    "    b=0\n",
    "    \n",
    "    for i in range(V):\n",
    "        if selected_node[i]:\n",
    "            for j in range(V):\n",
    "                if not selected_node[j] and G[i][j]:\n",
    "                    if min>G[i][j]:\n",
    "                        min=G[i][j]\n",
    "                        a=i\n",
    "                        b=j\n",
    "    \n",
    "    \n",
    "    e+=1\n",
    "    selected_node[b]=True\n",
    "    print(str(a) + \"-\" + str(b) + \" : \" + str(G[a][b]))\n",
    "    \n",
    "                "
   ]
  },
  {
   "cell_type": "code",
   "execution_count": null,
   "id": "a2cf8bce",
   "metadata": {},
   "outputs": [],
   "source": []
  }
 ],
 "metadata": {
  "kernelspec": {
   "display_name": "Python 3 (ipykernel)",
   "language": "python",
   "name": "python3"
  },
  "language_info": {
   "codemirror_mode": {
    "name": "ipython",
    "version": 3
   },
   "file_extension": ".py",
   "mimetype": "text/x-python",
   "name": "python",
   "nbconvert_exporter": "python",
   "pygments_lexer": "ipython3",
   "version": "3.10.9"
  }
 },
 "nbformat": 4,
 "nbformat_minor": 5
}
